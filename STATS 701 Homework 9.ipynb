{
 "cells": [
  {
   "cell_type": "markdown",
   "metadata": {},
   "source": [
    "## STATS 701 Homework 9, Winter 2018\n",
    "### Yunbin Peng\n",
    "#### yunbpeng@umich.edu"
   ]
  },
  {
   "cell_type": "code",
   "execution_count": 5,
   "metadata": {},
   "outputs": [],
   "source": [
    "import numpy as np\n",
    "import matplotlib as mp\n",
    "import matplotlib.pyplot as plt\n",
    "import pandas as pd"
   ]
  },
  {
   "cell_type": "markdown",
   "metadata": {},
   "source": [
    "## 1  counting words with mrjob\n",
    "### Part 1  "
   ]
  },
  {
   "cell_type": "raw",
   "metadata": {},
   "source": [
    "from mrjob.job import MRJob\n",
    "import re\n",
    "\n",
    "WORD_RE = re.compile(r\"[A-Za-z']+\")\n",
    "\n",
    "class MRWordCount(MRJob):\n",
    "\n",
    "    def mapper(self, _, line):\n",
    "        for word in WORD_RE.findall(line):\n",
    "            yield (word.lower(), 1)\n",
    "\n",
    "    def reducer(self, key, values):\n",
    "        yield key, sum(values)\n",
    "\n",
    "if __name__ == '__main__':\n",
    "    MRWordCount.run()"
   ]
  },
  {
   "cell_type": "markdown",
   "metadata": {},
   "source": [
    "### Part 2"
   ]
  },
  {
   "cell_type": "raw",
   "metadata": {},
   "source": [
    "[yunbpeng@flux-hadoop-login1 ~]$ cd STATS701/Homework9\n",
    "\n",
    "[yunbpeng@flux-hadoop-login1 Homework9]$ scp mr_word_count.py yunbpeng@flux-hadoop-login.arc-ts.umich.edu:/home/yunbpeng/STATS701/Homework9/ \n",
    "[yunbpeng@flux-hadoop-login1 Homework9]$ scp simple.txt yunbpeng@flux-hadoop-login.arc-ts.umich.edu:/home/yunbpeng/STATS701/Homework9/ \n",
    "\n",
    "[yunbpeng@flux-hadoop-login1 Homework9]$ python mr_word_count.py simple.txt > simple_word_counts.txt\n",
    "\n",
    "[yunbpeng@flux-hadoop-login1 Homework9]$ cat simple_word_counts.txt\n",
    "\"cheese\"        1\n",
    "\"have\"  1\n",
    "\"fleas\" 1\n",
    "\"dogs\"  2\n",
    "\"rats\"  3\n",
    "\"and\"   3\n",
    "\"cats\"  3\n",
    "\"eat\"   2\n",
    "\"raining\"       1\n"
   ]
  },
  {
   "cell_type": "markdown",
   "metadata": {},
   "source": [
    "### Part 3 Running mapreduce on Hadoop"
   ]
  },
  {
   "cell_type": "raw",
   "metadata": {},
   "source": [
    "[yunbpeng@flux-hadoop-login1 ~]$ cd STATS701/Homework9\n",
    "\n",
    "[yunbpeng@flux-hadoop-login1 Homework9]$ scp mr_word_count.py yunbpeng@flux-hadoop-login.arc-ts.umich.edu:/home/yunbpeng/STATS701/Homework9/ \n",
    "\n",
    "[yunbpeng@flux-hadoop-login1 Homework9]$ python mr_word_count.py -r hadoop -c /etc/mrjob.conf hdfs:///var/stat701w18/moby_dick.txt > word_counts.txt\n",
    "\n",
    "[yunbpeng@flux-hadoop-login1 Homework9]$ scp yunbpeng@flux-hadoop-login.arc-ts.umich.edu:/home/yunbpeng/STATS701/Homework9/word_counts.txt ~/Desktop"
   ]
  },
  {
   "cell_type": "markdown",
   "metadata": {},
   "source": [
    "### Part 4"
   ]
  },
  {
   "cell_type": "code",
   "execution_count": 44,
   "metadata": {},
   "outputs": [],
   "source": [
    "f = open('word_counts.txt')\n",
    "freq = []\n",
    "for line in f:\n",
    "    lst = line.split()\n",
    "    freq.append(int(lst[1]))"
   ]
  },
  {
   "cell_type": "code",
   "execution_count": 45,
   "metadata": {},
   "outputs": [],
   "source": [
    "freq = np.array(freq)\n",
    "sort_freq = -np.sort(-freq)\n",
    "rank = np.arange(len(sort_freq)) + 1\n",
    "\n",
    "log_freq = np.log(sort_freq)\n",
    "log_rank = np.log(rank)"
   ]
  },
  {
   "cell_type": "code",
   "execution_count": 46,
   "metadata": {},
   "outputs": [
    {
     "data": {
      "text/plain": [
       "[<matplotlib.lines.Line2D at 0x1c211cf34a8>]"
      ]
     },
     "execution_count": 46,
     "metadata": {},
     "output_type": "execute_result"
    },
    {
     "data": {
      "image/png": "[encoded data removed]",
      "text/plain": [
       "<matplotlib.figure.Figure at 0x1c211cf3ef0>"
      ]
     },
     "metadata": {},
     "output_type": "display_data"
    }
   ],
   "source": [
    "plt.figure(figsize=(8,8))\n",
    "plt.xlabel(\"log rank\", fontsize = 16)\n",
    "plt.ylabel(\"log frequency\", fontsize = 16)\n",
    "plt.title(\"log frequency vs log rank of word counts\", fontsize = 18)\n",
    "plt.plot(log_rank, log_freq, '-r')"
   ]
  },
  {
   "cell_type": "markdown",
   "metadata": {},
   "source": [
    "### Part 5\n",
    "**The result plot looks like a line.** "
   ]
  },
  {
   "cell_type": "markdown",
   "metadata": {},
   "source": [
    "## Problem 2 Computing Sample Statistics with mrjob"
   ]
  },
  {
   "cell_type": "markdown",
   "metadata": {},
   "source": [
    "### Part 1"
   ]
  },
  {
   "cell_type": "raw",
   "metadata": {},
   "source": [
    "from mrjob.job import MRJob\n",
    "from mrjob.step import MRStep\n",
    "import functools\n",
    "\n",
    "class MRSummaryStats(MRJob):\n",
    "    def steps(self):\n",
    "        return [\n",
    "            MRStep(mapper = self.mapper_1, reducer = self.reducer_1),\n",
    "            MRStep(mapper = self.mapper_2)\n",
    "        ]\n",
    "\n",
    "    def mapper_1(self, _, line):\n",
    "        lst = line.split()\n",
    "        key = lst[0]\n",
    "        value = float(lst[1])\n",
    "        yield (key, (value, value**2, 1))\n",
    "\n",
    "    def reducer_1(self, key, values):\n",
    "        yield key, functools.reduce(lambda x,y: (x[0]+y[0], x[1]+y[1], x[2]+y[2]), values)\n",
    "\n",
    "    def mapper_2(self, key, value):\n",
    "        n = value[2]\n",
    "        mean = value[0]/n\n",
    "        variance = value[1]/n - mean**2\n",
    "        yield key, (n, mean, variance)\n",
    "\n",
    "if __name__ == '__main__':\n",
    "    MRSummaryStats.run()\n"
   ]
  },
  {
   "cell_type": "markdown",
   "metadata": {},
   "source": [
    "### Part 2"
   ]
  },
  {
   "cell_type": "raw",
   "metadata": {},
   "source": [
    "[yunbpeng@flux-hadoop-login1 Homework9]$ scp mr_summary_stats.py yunbpeng@flux-hadoop-login.arc-ts.umich.edu:/home/yunbpeng/STATS701/Homework9/ \n",
    "[yunbpeng@flux-hadoop-login1 Homework9]$ python mr_summary_stats.py populations_small.txt > summary_small.txt\n",
    "Using configs in /etc/mrjob.conf\n",
    "No configs specified for inline runner\n",
    "Running step 1 of 2...\n",
    "Creating temp directory /tmp/mr_summary_stats.yunbpeng.20180414.204221.032942\n",
    "Running step 2 of 2...\n",
    "Streaming final output from /tmp/mr_summary_stats.yunbpeng.20180414.204221.032942/output...\n",
    "Removing temp directory /tmp/mr_summary_stats.yunbpeng.20180414.204221.032942...\n",
    "\n",
    "[yunbpeng@flux-hadoop-login1 Homework9]$ cat summary_small.txt\n",
    "\"1\"     [4,10.0,0.0]\n",
    "\"0\"     [3,0.0,2.6666666667]\n",
    "\"2\"     [5,5.0,8.0]\n"
   ]
  },
  {
   "cell_type": "markdown",
   "metadata": {},
   "source": [
    "### Part 3 Running map reduce on Hadoop"
   ]
  },
  {
   "cell_type": "raw",
   "metadata": {},
   "source": [
    "python mr_summary_stats.py -r hadoop -c /etc/mrjob.conf hdfs:///var/stat701w18/populations_large.txt > summary_large.txt"
   ]
  },
  {
   "cell_type": "raw",
   "metadata": {},
   "source": [
    "[yunbpeng@flux-hadoop-login1 ~]$ cd STATS701/Homework9\n",
    "[yunbpeng@flux-hadoop-login1 Homework9]$ scp mr_summary_stats.py yunbpeng@flux-hadoop-login.arc-ts.umich.edu:/home/yunbpeng/STATS701/Homework9/ \n",
    "[yunbpeng@flux-hadoop-login1 Homework9]$ ls\n",
    "mr_summary_stats.py    simple.txt              word_counts.txt\n",
    "mr_word_count.py       simple_word_counts.txt\n",
    "populations_small.txt  summary_small.txt\n",
    "[yunbpeng@flux-hadoop-login1 Homework9]$ python mr_summary_stats.py -r hadoop -c /etc/mrjob.conf \n",
    "hdfs:///var/stat701w18/populations_large.txt > summary_large.txt                                                                 \n",
    "\n",
    "[yunbpeng@flux-hadoop-login1 Homework9]$ scp yunbpeng@flux-hadoop-login.arc-ts.umich.edu:/home/yunbpeng/STATS701/Homework9/summary_large.txt ~/Desktop"
   ]
  },
  {
   "cell_type": "markdown",
   "metadata": {},
   "source": [
    "### Part 4"
   ]
  },
  {
   "cell_type": "code",
   "execution_count": 47,
   "metadata": {},
   "outputs": [],
   "source": [
    "f = open('summary_large.txt')\n",
    "key = []\n",
    "n = []\n",
    "mean = []\n",
    "variance = []\n",
    "for line in f:\n",
    "    lst = line.split(\"\\t\")\n",
    "    key.append(int(lst[0].strip('\"')))\n",
    "    lst2 = lst[1].split(\",\")\n",
    "    n.append(int(lst2[0].strip(\"[\")))\n",
    "    mean.append(float(lst2[1].strip()))\n",
    "    variance.append(float(lst2[2].strip(\"]\\n\").strip()))"
   ]
  },
  {
   "cell_type": "code",
   "execution_count": 48,
   "metadata": {},
   "outputs": [
    {
     "data": {
      "text/plain": [
       "array([ 0,  1, 10, 11,  2,  3,  4,  5,  6,  7,  8,  9])"
      ]
     },
     "execution_count": 48,
     "metadata": {},
     "output_type": "execute_result"
    }
   ],
   "source": [
    "key = np.array(key)\n",
    "key"
   ]
  },
  {
   "cell_type": "code",
   "execution_count": 49,
   "metadata": {},
   "outputs": [
    {
     "data": {
      "text/plain": [
       "array([834237, 833777, 834949, 832304, 832451, 832676, 833149, 831961,\n",
       "       833335, 834354, 833649, 833158])"
      ]
     },
     "execution_count": 49,
     "metadata": {},
     "output_type": "execute_result"
    }
   ],
   "source": [
    "n = np.array(n)\n",
    "n"
   ]
  },
  {
   "cell_type": "code",
   "execution_count": 50,
   "metadata": {},
   "outputs": [
    {
     "data": {
      "text/plain": [
       "array([ 11.56243428,  22.06705146,  -2.84553609,  34.57286406,\n",
       "       -14.85721033, -19.11766928,  15.09997451,  -6.84777608,\n",
       "         3.55639596,   4.79807638,  15.77849749,   8.63111192])"
      ]
     },
     "execution_count": 50,
     "metadata": {},
     "output_type": "execute_result"
    }
   ],
   "source": [
    "mean = np.array(mean)\n",
    "mean"
   ]
  },
  {
   "cell_type": "code",
   "execution_count": 51,
   "metadata": {},
   "outputs": [
    {
     "data": {
      "text/plain": [
       "array([8.74990138e+07, 9.26214885e+07, 1.05563888e+08, 7.95157737e+07,\n",
       "       8.73381460e+07, 8.15814369e+07, 9.29226675e+07, 1.05528025e+08,\n",
       "       6.14239632e+07, 8.52884640e+07, 8.66669817e+07, 7.23199730e+07])"
      ]
     },
     "execution_count": 51,
     "metadata": {},
     "output_type": "execute_result"
    }
   ],
   "source": [
    "variance = np.array(variance)\n",
    "variance"
   ]
  },
  {
   "cell_type": "code",
   "execution_count": 52,
   "metadata": {},
   "outputs": [
    {
     "data": {
      "text/plain": [
       "array([10.24134167, 10.53976488, 11.24417805,  9.77429976, 10.2428932 ,\n",
       "        9.89823252, 10.56086511, 11.26243818,  8.58537177, 10.110438  ,\n",
       "       10.1961266 ,  9.31677148])"
      ]
     },
     "execution_count": 52,
     "metadata": {},
     "output_type": "execute_result"
    }
   ],
   "source": [
    "error = np.sqrt(variance / n)\n",
    "error"
   ]
  },
  {
   "cell_type": "code",
   "execution_count": 53,
   "metadata": {},
   "outputs": [
    {
     "data": {
      "image/png": "[encoded data removed]",
      "text/plain": [
       "<matplotlib.figure.Figure at 0x1c2119adcf8>"
      ]
     },
     "metadata": {},
     "output_type": "display_data"
    }
   ],
   "source": [
    "plt.figure(figsize=(8,8))\n",
    "plt.xlabel(\"class label\", fontsize = 16)\n",
    "plt.ylabel(\"sample mean\", fontsize = 16)\n",
    "plt.title(\"confidence interval of sample mean for each class\", fontsize = 18)\n",
    "_ = plt.errorbar(key, mean, yerr=error, fmt='o')"
   ]
  },
  {
   "cell_type": "markdown",
   "metadata": {},
   "source": [
    "## 3  Graph Processing: Counting Triangles with PySpark"
   ]
  },
  {
   "cell_type": "markdown",
   "metadata": {},
   "source": [
    "### Part 1 PySpark job"
   ]
  },
  {
   "cell_type": "raw",
   "metadata": {},
   "source": [
    "from pyspark import SparkConf, SparkContext\n",
    "import sys\n",
    "\n",
    "if len(sys.argv) != 3:\n",
    "    print(\"Usage: \" + sys.argv[0] + \"<in> <out>\")\n",
    "    sys.exit(1)\n",
    "\n",
    "inputlocation = sys.argv[1]\n",
    "outputlocation = sys.argv[2]\n",
    "\n",
    "conf = SparkConf().setAppName(\"triangle_counting\")\n",
    "sc = SparkContext(conf=conf)\n",
    "\n",
    "data = sc.textFile(inputlocation)\n",
    "\n",
    "# format the data, convert string to integer so can use sorted function\n",
    "data1 = data.map(lambda x: [int(n) for n in x.split()])\n",
    "\n",
    "# generate all possible combinations of 3 nodes, regardless whether it will form a triangle\n",
    "# it may not be a valid triangle since all output is like \"A--B--C\", there is no gurantee that A and C are connected\n",
    "# However if there is another triangle in the form \"A--C--B\" or \"B--A--C\", then it will be a valid one\n",
    "data2 = data1.flatMap(lambda x: [tuple(sorted([x[0], x[i], x[j]])) for i in range(1, len(x)-1) for j in range(i+1, len(x))])\n",
    "\n",
    "# map each \"triangle\" to a pair of (key, value) while key is triangle and value is no. of occurance\n",
    "data3 = data2.map(lambda x: (x, 1)).reduceByKey(lambda x,y: x+y)\n",
    "\n",
    "# In order for a triangle to be \"valid\", its count should be at least 2\n",
    "# filter it to get (key, count) pair while key are valid triangles\n",
    "# extract the key\n",
    "data4 = data3.filter(lambda x: x[1] >= 2).map(lambda x: x[0])\n",
    "\n",
    "data4.saveAsTextFile(outputlocation)\n",
    "sc.stop()\n"
   ]
  },
  {
   "cell_type": "markdown",
   "metadata": {},
   "source": [
    "### Part 2"
   ]
  },
  {
   "cell_type": "raw",
   "metadata": {},
   "source": [
    "[yunbpeng@flux-hadoop-login1 Homework9]$ spark-submit --master yarn --queue default triangle_counting.py hdfs:///var/stat701w18/fof/friends.simple small\n",
    "\n",
    "\n",
    "[yunbpeng@flux-hadoop-login1 Homework9]$ hdfs dfs -cat small/*                \n",
    "(100, 200, 217)\n",
    "(300, 400, 500)\n",
    "(100, 200, 300)\n",
    "(100, 200, 400)\n",
    "(200, 300, 400)\n",
    "(100, 300, 400)"
   ]
  },
  {
   "cell_type": "markdown",
   "metadata": {},
   "source": [
    "**There are 6 triangles**"
   ]
  },
  {
   "cell_type": "markdown",
   "metadata": {},
   "source": [
    "### Part 3 Running on Hadoop"
   ]
  },
  {
   "cell_type": "raw",
   "metadata": {},
   "source": [
    "[yunbpeng@flux-hadoop-login1 Homework9]$ scp triangle_counting.py yunbpeng@flux-hadoop-login.arc-ts.umich.edu:/home/yunbpeng/STATS701/Homework9/  \n",
    "[yunbpeng@flux-hadoop-login1 Homework9]$ cd STATS701/Homework9\n",
    "[yunbpeng@flux-hadoop-login1 Homework9]$ spark-submit --master yarn --queue default triangle_counting.py hdfs:///var/stat701w18/fof/friends1000 big\n",
    "[yunbpeng@flux-hadoop-login1 Homework9]$ hdfs dfs -cat big/* > big_triangle_list.txt                                              [yunbpeng@flux-hadoop-login1 Homework9]$ scp yunbpeng@flux-hadoop-login.arc-ts.umich.edu:/home/yunbpeng/STATS701/Homework9/big_triangle_list.txt ~/Desktop"
   ]
  },
  {
   "cell_type": "raw",
   "metadata": {},
   "source": []
  },
  {
   "cell_type": "code",
   "execution_count": null,
   "metadata": {},
   "outputs": [],
   "source": []
  },
  {
   "cell_type": "code",
   "execution_count": null,
   "metadata": {},
   "outputs": [],
   "source": []
  }
 ],
 "metadata": {
  "kernelspec": {
   "display_name": "Python 3",
   "language": "python",
   "name": "python3"
  },
  "language_info": {
   "codemirror_mode": {
    "name": "ipython",
    "version": 3
   },
   "file_extension": ".py",
   "mimetype": "text/x-python",
   "name": "python",
   "nbconvert_exporter": "python",
   "pygments_lexer": "ipython3",
   "version": "3.6.4"
  }
 },
 "nbformat": 4,
 "nbformat_minor": 2
}
